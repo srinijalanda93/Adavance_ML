{
 "cells": [
  {
   "cell_type": "markdown",
   "id": "574bdc30-5e4e-4eed-8013-ddc18e673505",
   "metadata": {},
   "source": [
    "### Using a dataset from your chosen domain (this could be a labeled image dataset or a\n",
    "structured CSV dataset with multiple features):\n",
    "1. Apply PCA to reduce the dimensionality by identifying the principal components that\n",
    "capture the most variance.\n",
    "2. Apply LDA to project the data onto a lower-dimensional space, using the class labels\n",
    "to maximize separation between classes.\n",
    "3. Apply ICA to find statistically independent components in the dataset, which may\n",
    "reveal underlying patterns or sources."
   ]
  }
 ],
 "metadata": {
  "kernelspec": {
   "display_name": "Python 3 (ipykernel)",
   "language": "python",
   "name": "python3"
  },
  "language_info": {
   "codemirror_mode": {
    "name": "ipython",
    "version": 3
   },
   "file_extension": ".py",
   "mimetype": "text/x-python",
   "name": "python",
   "nbconvert_exporter": "python",
   "pygments_lexer": "ipython3",
   "version": "3.12.4"
  }
 },
 "nbformat": 4,
 "nbformat_minor": 5
}
