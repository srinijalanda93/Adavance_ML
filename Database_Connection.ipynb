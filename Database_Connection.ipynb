{
 "cells": [
  {
   "cell_type": "code",
   "execution_count": 3,
   "id": "0599edb3-2b61-4668-9123-3bd9af3e38f0",
   "metadata": {},
   "outputs": [
    {
     "name": "stdout",
     "output_type": "stream",
     "text": [
      "Collecting pymysql\n",
      "  Downloading PyMySQL-1.1.1-py3-none-any.whl.metadata (4.4 kB)\n",
      "Downloading PyMySQL-1.1.1-py3-none-any.whl (44 kB)\n",
      "   ---------------------------------------- 0.0/45.0 kB ? eta -:--:--\n",
      "   --------- ------------------------------ 10.2/45.0 kB ? eta -:--:--\n",
      "   ------------------ --------------------- 20.5/45.0 kB 217.9 kB/s eta 0:00:01\n",
      "   --------------------------- ------------ 30.7/45.0 kB 262.6 kB/s eta 0:00:01\n",
      "   ------------------------------------ --- 41.0/45.0 kB 219.4 kB/s eta 0:00:01\n",
      "   ---------------------------------------- 45.0/45.0 kB 222.6 kB/s eta 0:00:00\n",
      "Installing collected packages: pymysql\n",
      "Successfully installed pymysql-1.1.1\n",
      "Note: you may need to restart the kernel to use updated packages.\n"
     ]
    }
   ],
   "source": [
    "pip install pymysql"
   ]
  },
  {
   "cell_type": "code",
   "execution_count": 3,
   "id": "f41a9413-18fd-41dd-b167-b4d21a029fd2",
   "metadata": {},
   "outputs": [
    {
     "name": "stdout",
     "output_type": "stream",
     "text": [
      "connected to MySQL Database\n",
      "\n",
      "Retrieved Data:\n",
      "(101, 1, 'pH Sensor', datetime.date(2024, 1, 10), 'Active')\n",
      "(102, 1, 'Turbidity Sensor', datetime.date(2024, 2, 15), 'Active')\n",
      "(103, 2, 'Oxygen Sensor', datetime.date(2024, 3, 5), 'Inactive')\n",
      "(104, 3, 'Temperature Sensor', datetime.date(2024, 4, 22), 'Active')\n",
      "MySQL connection closed.\n"
     ]
    }
   ],
   "source": [
    "import pymysql\n",
    "\n",
    "try:\n",
    "    # Step 1: connect to the MySQL database\n",
    "    connection = pymysql.connect(\n",
    "        host='localhost',\n",
    "        user='root',\n",
    "        password='',\n",
    "        database='wqms'\n",
    "    )\n",
    "    print(\"connected to MySQL Database\")\n",
    "\n",
    "    # Step 2: Create a cursor to execute SQL queries\n",
    "    cursor = connection.cursor()\n",
    "\n",
    "    # Step 3: Write an SQL query to retrieve rows from your table\n",
    "    query = \"SELECT * FROM WaterQualitySensor;\"  # Replace with other table name\n",
    "\n",
    "    # Step 4: Execute the query\n",
    "    cursor.execute(query)\n",
    "\n",
    "    # Step 5: Fetch all rows from the table\n",
    "    records = cursor.fetchall()\n",
    "\n",
    "    # Step 6: Display the data row-by-row\n",
    "    print(\"\\nRetrieved Data:\")\n",
    "    for row in records:\n",
    "        print(row)\n",
    "\n",
    "except pymysql.MySQLError as e:\n",
    "    print(f\"Error: {e}\")\n",
    "\n",
    "finally:\n",
    "    # Step 7: Close the cursor and connection\n",
    "    if 'cursor' in locals():\n",
    "        cursor.close()\n",
    "    if 'connection' in locals() and connection.open:\n",
    "        connection.close()\n",
    "    print(\"MySQL connection closed.\")\n"
   ]
  },
  {
   "cell_type": "code",
   "execution_count": 19,
   "id": "ef8bcb61-63cb-486f-a95f-c18bb8c1932c",
   "metadata": {},
   "outputs": [
    {
     "name": "stdout",
     "output_type": "stream",
     "text": [
      "Error: (1054, \"Unknown column 'id' in 'field list'\")\n"
     ]
    }
   ],
   "source": [
    "import pymysql\n",
    "\n",
    "def get_connection():\n",
    "    return pymysql.connect(\n",
    "        host='localhost',\n",
    "        user='root',\n",
    "        password='',\n",
    "        database='wqms'\n",
    "    )\n",
    "\n",
    "def insert_data(query, values):\n",
    "    try:\n",
    "        connection = get_connection()\n",
    "        cursor = connection.cursor()\n",
    "        cursor.execute(query, values)\n",
    "        connection.commit()\n",
    "        print(f\"{cursor.rowcount} row(s) inserted successfully.\")\n",
    "    except pymysql.MySQLError as e:\n",
    "        print(f\"Error: {e}\")\n",
    "    finally:\n",
    "        if 'cursor' in locals():\n",
    "            cursor.close()\n",
    "        if 'connection' in locals() and connection.open:\n",
    "            connection.close()\n",
    "\n",
    "# Step 1: Write an INSERT query for WaterBody\n",
    "insert_query = \"\"\"\n",
    "INSERT INTO WaterBody (waterbody, name, location, type, area)\n",
    "VALUES (%s, %s, ST_GeomFromText(%s), %s, %s);\n",
    "\"\"\"\n",
    "\n",
    "# Step 2: Define the values to insert (Modify as needed)\n",
    "# The third value is passed as a WKT (Well-Known Text) representation of the geometry\n",
    "values = (19, 'Lake Victoria', 'POINT(34.0 -4.0)', 'Lake', 78800.00)\n",
    "\n",
    "# Step 3: Use the helper function to insert data\n",
    "insert_data(insert_query, values)\n"
   ]
  },
  {
   "cell_type": "code",
   "execution_count": null,
   "id": "3a42a4b1-41d3-468f-9782-eebf4c0ded53",
   "metadata": {},
   "outputs": [],
   "source": []
  }
 ],
 "metadata": {
  "kernelspec": {
   "display_name": "Python 3 (ipykernel)",
   "language": "python",
   "name": "python3"
  },
  "language_info": {
   "codemirror_mode": {
    "name": "ipython",
    "version": 3
   },
   "file_extension": ".py",
   "mimetype": "text/x-python",
   "name": "python",
   "nbconvert_exporter": "python",
   "pygments_lexer": "ipython3",
   "version": "3.12.4"
  }
 },
 "nbformat": 4,
 "nbformat_minor": 5
}
